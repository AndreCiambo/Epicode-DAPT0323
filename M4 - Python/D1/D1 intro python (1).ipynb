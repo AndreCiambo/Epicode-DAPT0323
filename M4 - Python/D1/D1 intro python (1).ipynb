{
 "cells": [
  {
   "cell_type": "code",
   "execution_count": 1,
   "id": "f11b8628-87a3-4bb4-8e20-996f06a15717",
   "metadata": {
    "tags": []
   },
   "outputs": [
    {
     "name": "stdout",
     "output_type": "stream",
     "text": [
      "25\n"
     ]
    }
   ],
   "source": [
    "# Abbiamo 25 studenti; memorizzare questo dato in una variabile e stamparla a video.\n",
    "studenti = 25\n",
    "print (studenti)"
   ]
  },
  {
   "cell_type": "code",
   "execution_count": 7,
   "id": "21393b82-453f-4b41-ada8-ef1cd1668eda",
   "metadata": {
    "tags": []
   },
   "outputs": [],
   "source": [
    "# Abbiamo 25 studenti; memorizzare questo dato in una variabile. Arrivano altri 3 studenti; memorizzare questo dato in un'altra variabile.\n",
    "Studenti = 25\n",
    "Nuovi_studenti = 3"
   ]
  },
  {
   "cell_type": "code",
   "execution_count": 4,
   "id": "425a075e-cae1-4bd4-a641-012089f5a5f9",
   "metadata": {
    "tags": []
   },
   "outputs": [
    {
     "name": "stdout",
     "output_type": "stream",
     "text": [
      "28\n"
     ]
    }
   ],
   "source": [
    "# Abbiamo 25 studenti; memorizzare questo dato in una variabile. Arrivano altri 3 studenti; memorizzare questo dato in un'altra variabile.\n",
    "#Creare un'altra variabile ancora che conterrà la somma delle prime due, poi stamparla a video.\n",
    "Somma_studenti = Studenti + Nuovi_studenti\n",
    "print(Somma_studenti)"
   ]
  },
  {
   "cell_type": "code",
   "execution_count": 5,
   "id": "f0537433-7fe3-44be-913a-447c9261d084",
   "metadata": {
    "tags": []
   },
   "outputs": [],
   "source": [
    "#Creare a mano una lista che contenga i numeri da 0 a 5, memorizzarla in una nuova variabile e infine stamparla a video."
   ]
  },
  {
   "cell_type": "code",
   "execution_count": 6,
   "id": "83391650-e623-48be-88d9-47c9a0aa8bd9",
   "metadata": {
    "tags": []
   },
   "outputs": [
    {
     "name": "stdout",
     "output_type": "stream",
     "text": [
      "[0, 1, 2, 3, 4, 5]\n"
     ]
    }
   ],
   "source": [
    "Lista_numeri = [0,1,2,3,4,5]\n",
    "print (Lista_numeri)"
   ]
  },
  {
   "cell_type": "code",
   "execution_count": 9,
   "id": "d35f46ba-f4bf-49a1-81c4-fde32c79298c",
   "metadata": {
    "tags": []
   },
   "outputs": [],
   "source": [
    "# Crea a mano, una lista che contenga tre titoli di film, memorizzarla in una variabile e infine stamparla a video."
   ]
  },
  {
   "cell_type": "code",
   "execution_count": 10,
   "id": "4a9117f4-1c71-4048-a84e-155319170c0c",
   "metadata": {
    "tags": []
   },
   "outputs": [
    {
     "name": "stdout",
     "output_type": "stream",
     "text": [
      "['Harry Potter', 'Il Signore degli Anelli', 'Il Gladiatore']\n"
     ]
    }
   ],
   "source": [
    "Lista_film = [ \"Harry Potter\",\"Il Signore degli Anelli\", \"Il Gladiatore\"]\n",
    "print(Lista_film)"
   ]
  }
 ],
 "metadata": {
  "kernelspec": {
   "display_name": "Python 3 (ipykernel)",
   "language": "python",
   "name": "python3"
  },
  "language_info": {
   "codemirror_mode": {
    "name": "ipython",
    "version": 3
   },
   "file_extension": ".py",
   "mimetype": "text/x-python",
   "name": "python",
   "nbconvert_exporter": "python",
   "pygments_lexer": "ipython3",
   "version": "3.11.4"
  }
 },
 "nbformat": 4,
 "nbformat_minor": 5
}

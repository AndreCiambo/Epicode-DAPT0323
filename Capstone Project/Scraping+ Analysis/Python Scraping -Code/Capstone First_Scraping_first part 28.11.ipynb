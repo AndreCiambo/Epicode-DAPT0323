{
 "cells": [
  {
   "cell_type": "code",
   "execution_count": 1,
   "id": "50304c25",
   "metadata": {},
   "outputs": [],
   "source": [
    "import yfinance as yf\n",
    "import pandas as pd\n",
    "import glob"
   ]
  },
  {
   "cell_type": "code",
   "execution_count": 2,
   "id": "42fcbae7",
   "metadata": {},
   "outputs": [],
   "source": [
    "# Definisci i ticker degli ETF e i nomi desiderati per i file CSV\n",
    "etf_info = [\n",
    "    {\"ticker\": \"QQQ\", \"csv_name\": \"QQQ_technology.csv\"},\n",
    "    {\"ticker\": \"VGT\", \"csv_name\": \"VGT_technology.csv\"},\n",
    "    {\"ticker\": \"FDN\", \"csv_name\": \"FDN_technology.csv\"},\n",
    "    {\"ticker\": \"XLK\", \"csv_name\": \"XLK_technology.csv\"},\n",
    "    {\"ticker\": \"IYW\", \"csv_name\": \"IYW_technology.csv\"}\n",
    "]\n"
   ]
  },
  {
   "cell_type": "code",
   "execution_count": 3,
   "id": "35d9cea7",
   "metadata": {},
   "outputs": [
    {
     "name": "stdout",
     "output_type": "stream",
     "text": [
      "[*********************100%%**********************]  1 of 1 completed\n",
      "Dati di QQQ salvati in QQQ_technology.csv\n",
      "[*********************100%%**********************]  1 of 1 completed\n",
      "Dati di VGT salvati in VGT_technology.csv\n",
      "[*********************100%%**********************]  1 of 1 completed\n",
      "Dati di FDN salvati in FDN_technology.csv\n",
      "[*********************100%%**********************]  1 of 1 completed\n",
      "Dati di XLK salvati in XLK_technology.csv\n",
      "[*********************100%%**********************]  1 of 1 completed\n",
      "Dati di IYW salvati in IYW_technology.csv\n"
     ]
    }
   ],
   "source": [
    "# Scarica i dati storici mensili degli ultimi 5 anni per ciascun ETF\n",
    "\n",
    "\n",
    "for etf in etf_info:\n",
    "    etf_ticker = etf[\"ticker\"]\n",
    "    etf_data = yf.download(etf_ticker, start=\"2018-01-01\", end=\"2023-01-01\", interval=\"1mo\")\n",
    "    csv_filename = etf[\"csv_name\"]\n",
    "    etf_data.to_csv(csv_filename)\n",
    "    print(f\"Dati di {etf_ticker} salvati in {csv_filename}\")"
   ]
  },
  {
   "cell_type": "code",
   "execution_count": null,
   "id": "72b79544",
   "metadata": {},
   "outputs": [],
   "source": []
  }
 ],
 "metadata": {
  "kernelspec": {
   "display_name": "Python 3 (ipykernel)",
   "language": "python",
   "name": "python3"
  },
  "language_info": {
   "codemirror_mode": {
    "name": "ipython",
    "version": 3
   },
   "file_extension": ".py",
   "mimetype": "text/x-python",
   "name": "python",
   "nbconvert_exporter": "python",
   "pygments_lexer": "ipython3",
   "version": "3.11.4"
  }
 },
 "nbformat": 4,
 "nbformat_minor": 5
}

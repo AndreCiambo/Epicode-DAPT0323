{
 "cells": [
  {
   "cell_type": "code",
   "execution_count": 1,
   "id": "c0c34f07",
   "metadata": {},
   "outputs": [],
   "source": [
    "import yfinance as yf\n",
    "import os\n",
    "import pandas as pd"
   ]
  },
  {
   "cell_type": "code",
   "execution_count": 2,
   "id": "58cd9160",
   "metadata": {},
   "outputs": [],
   "source": [
    "current_directory = os.getcwd()"
   ]
  },
  {
   "cell_type": "code",
   "execution_count": 3,
   "id": "5dc4bc86",
   "metadata": {},
   "outputs": [],
   "source": [
    "# Lista di ETF nello stesso settore (es. Technology)\n",
    "etf_consumer_service = [\n",
    "    {\"ticker\": \"XLY\", \"sector\": \"Consumer Service\"},\n",
    "    {\"ticker\": \"VCR\", \"sector\": \"Consumer Service\"},\n",
    "    {\"ticker\": \"PEJ\", \"sector\": \"Consumer Service\"},\n",
    "    {\"ticker\": \"ONLN\", \"sector\": \"Consumer Service\"},\n",
    "    {\"ticker\": \"BJK\", \"sector\": \"Consumer Service\"},\n",
    "]"
   ]
  },
  {
   "cell_type": "code",
   "execution_count": 4,
   "id": "373f13a1",
   "metadata": {},
   "outputs": [],
   "source": [
    "# Lista per conservare i DataFrame di ciascun ETF\n",
    "dfs = []"
   ]
  },
  {
   "cell_type": "code",
   "execution_count": 5,
   "id": "674396b3",
   "metadata": {},
   "outputs": [
    {
     "name": "stdout",
     "output_type": "stream",
     "text": [
      "[*********************100%%**********************]  1 of 1 completed\n",
      "[*********************100%%**********************]  1 of 1 completed\n",
      "[*********************100%%**********************]  1 of 1 completed\n",
      "[*********************100%%**********************]  1 of 1 completed\n",
      "[*********************100%%**********************]  1 of 1 completed\n"
     ]
    }
   ],
   "source": [
    "# Itera sulla lista e scarica i dati mensili per ciascun ETF\n",
    "\n",
    "for etf in etf_consumer_service:\n",
    "    ticker = etf[\"ticker\"]\n",
    "    sector = etf[\"sector\"]\n",
    "    \n",
    "    #Scarica solo i dati storici mensili per l'ETF corrente\n",
    "    data = yf.download(ticker, period='5y', interval='1mo')  # interval='1mo' per dati mensili\n",
    "    \n",
    "    # Ottenere il nome completo dello strumento finanziario\n",
    "    full_name = yf.Ticker(ticker).info['longName']\n",
    "    \n",
    "    \n",
    "    # Aggiungi le colonne del settore e del nome ETF\n",
    "    data['sector'] = sector\n",
    "    data['ETF Name'] = ticker\n",
    "    data['Full ETF Name'] = full_name\n",
    "    \n",
    "    \n",
    "    # Aggiungi il DataFrame all'elenco\n",
    "    dfs.append(data)\n",
    "    \n",
    "    \n",
    "    \n",
    "    "
   ]
  },
  {
   "cell_type": "code",
   "execution_count": 6,
   "id": "0c24363a",
   "metadata": {},
   "outputs": [],
   "source": [
    "# Concatena tutti i DataFrame in un unico DataFrame\n",
    "all_etf_data_consumer_service = pd.concat(dfs, axis=0)\n"
   ]
  },
  {
   "cell_type": "code",
   "execution_count": 7,
   "id": "4cc220ca",
   "metadata": {},
   "outputs": [
    {
     "name": "stdout",
     "output_type": "stream",
     "text": [
      "I dati combinati di tutti gli ETF sono stati esportati in C:\\Users\\DELL\\all_Consumer_services.csv\n"
     ]
    }
   ],
   "source": [
    "# Esporta i dati combinati in un singolo file CSV\n",
    "\n",
    "combined_file_name = f\"all_Consumer_services.csv\"\n",
    "combined_file_path = os.path.join(current_directory, combined_file_name)\n",
    "all_etf_data_consumer_service.to_csv(combined_file_path)\n",
    "\n",
    "print(f\"I dati combinati di tutti gli ETF sono stati esportati in {combined_file_path}\")"
   ]
  },
  {
   "cell_type": "code",
   "execution_count": null,
   "id": "e4891d83",
   "metadata": {},
   "outputs": [],
   "source": []
  },
  {
   "cell_type": "code",
   "execution_count": null,
   "id": "29720940",
   "metadata": {},
   "outputs": [],
   "source": []
  }
 ],
 "metadata": {
  "kernelspec": {
   "display_name": "Python 3 (ipykernel)",
   "language": "python",
   "name": "python3"
  },
  "language_info": {
   "codemirror_mode": {
    "name": "ipython",
    "version": 3
   },
   "file_extension": ".py",
   "mimetype": "text/x-python",
   "name": "python",
   "nbconvert_exporter": "python",
   "pygments_lexer": "ipython3",
   "version": "3.11.4"
  }
 },
 "nbformat": 4,
 "nbformat_minor": 5
}

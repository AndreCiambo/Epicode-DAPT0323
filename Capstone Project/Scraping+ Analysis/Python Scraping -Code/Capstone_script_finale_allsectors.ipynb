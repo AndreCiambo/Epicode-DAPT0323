{
 "cells": [
  {
   "cell_type": "code",
   "execution_count": 8,
   "id": "82a485cd",
   "metadata": {},
   "outputs": [],
   "source": [
    "import pandas as pd\n",
    "import os"
   ]
  },
  {
   "cell_type": "code",
   "execution_count": 9,
   "id": "fb1881e8",
   "metadata": {},
   "outputs": [],
   "source": [
    "# Specifica il percorso della cartella contenente i tuoi file CSV\n",
    "\n",
    "folder_path = 'C:\\\\Users\\DELL\\\\ETF da concatenare'"
   ]
  },
  {
   "cell_type": "code",
   "execution_count": 10,
   "id": "6647a72a",
   "metadata": {},
   "outputs": [],
   "source": [
    "# Lista vuota per contenere i DataFrame di ciascun file\n",
    "dfs = []"
   ]
  },
  {
   "cell_type": "code",
   "execution_count": 11,
   "id": "4e380c5b",
   "metadata": {},
   "outputs": [],
   "source": [
    "# Ciclo attraverso ciascun file nella cartella\n",
    "\n",
    "for filename in os.listdir(folder_path):\n",
    "    if filename.endswith(\".csv\"):\n",
    "        file_path = os.path.join(folder_path, filename)\n",
    "        df = pd.read_csv(file_path)\n",
    "        dfs.append(df)"
   ]
  },
  {
   "cell_type": "code",
   "execution_count": 12,
   "id": "45cbe32b",
   "metadata": {},
   "outputs": [],
   "source": [
    "# Concatena i DataFrame in un unico DataFrame\n",
    "merged_df = pd.concat(dfs, axis=0, ignore_index=True)"
   ]
  },
  {
   "cell_type": "code",
   "execution_count": 13,
   "id": "5a30bca3",
   "metadata": {},
   "outputs": [],
   "source": [
    "# Salva il DataFrame combinato in un nuovo file CSV\n",
    "merged_df.to_csv('C:\\\\Users\\\\DELL\\\\ETF da concatenare\\\\dati_combined_finale.csv', index=False)"
   ]
  },
  {
   "cell_type": "code",
   "execution_count": 14,
   "id": "a0466be8",
   "metadata": {},
   "outputs": [
    {
     "name": "stdout",
     "output_type": "stream",
     "text": [
      "Concatenazione completata. Il file combinato è stato salvato.\n"
     ]
    }
   ],
   "source": [
    "print(\"Concatenazione completata. Il file combinato è stato salvato.\")"
   ]
  },
  {
   "cell_type": "code",
   "execution_count": null,
   "id": "01033331",
   "metadata": {},
   "outputs": [],
   "source": []
  }
 ],
 "metadata": {
  "kernelspec": {
   "display_name": "Python 3 (ipykernel)",
   "language": "python",
   "name": "python3"
  },
  "language_info": {
   "codemirror_mode": {
    "name": "ipython",
    "version": 3
   },
   "file_extension": ".py",
   "mimetype": "text/x-python",
   "name": "python",
   "nbconvert_exporter": "python",
   "pygments_lexer": "ipython3",
   "version": "3.11.4"
  }
 },
 "nbformat": 4,
 "nbformat_minor": 5
}
